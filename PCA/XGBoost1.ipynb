{
  "cells": [
    {
      "cell_type": "code",
      "execution_count": null,
      "metadata": {
        "colab": {
          "base_uri": "https://localhost:8080/",
          "height": 488
        },
        "id": "Z95dtXmjB5IK",
        "outputId": "5fd3d033-9fd6-4775-8a3d-3dff237ab4f8"
      },
      "outputs": [
        {
          "output_type": "execute_result",
          "data": {
            "text/plain": [
              "        MI_dir_L5_weight  MI_dir_L5_mean  MI_dir_L5_variance  \\\n",
              "0               1.000000      566.000000        0.000000e+00   \n",
              "1               1.996585      566.000000        5.820000e-11   \n",
              "2               2.958989      566.000000        0.000000e+00   \n",
              "3               3.958979      566.000000        0.000000e+00   \n",
              "4               4.914189      566.000000        1.160000e-10   \n",
              "...                  ...             ...                 ...   \n",
              "813555        107.013362      451.270414        4.019486e+04   \n",
              "813556        108.012301      452.221506        3.991953e+04   \n",
              "813557        108.716218      453.157691        3.964675e+04   \n",
              "813558        109.580657      454.077947        3.937690e+04   \n",
              "813559        109.981077      454.986486        3.910882e+04   \n",
              "\n",
              "        MI_dir_L3_weight  MI_dir_L3_mean  MI_dir_L3_variance  \\\n",
              "0               1.000000      566.000000        0.000000e+00   \n",
              "1               1.997950      566.000000        5.820000e-11   \n",
              "2               2.975291      566.000000        5.820000e-11   \n",
              "3               3.975285      566.000000        0.000000e+00   \n",
              "4               4.948239      566.000000        5.820000e-11   \n",
              "...                  ...             ...                 ...   \n",
              "813555        177.665918      416.233265        4.907493e+04   \n",
              "813556        178.664861      417.004355        4.890589e+04   \n",
              "813557        179.370847      417.768112        4.873728e+04   \n",
              "813558        180.236616      418.523962        4.856928e+04   \n",
              "813559        180.644259      419.273922        4.840145e+04   \n",
              "\n",
              "        MI_dir_L1_weight  MI_dir_L1_mean  MI_dir_L1_variance  \\\n",
              "0               1.000000      566.000000        0.000000e+00   \n",
              "1               1.999316      566.000000        0.000000e+00   \n",
              "2               2.991729      566.000000        5.820000e-11   \n",
              "3               3.991727      566.000000        1.160000e-10   \n",
              "4               4.982654      566.000000        5.820000e-11   \n",
              "...                  ...             ...                 ...   \n",
              "813555        503.050021      389.699401        5.415282e+04   \n",
              "813556        504.049023      390.025362        5.409883e+04   \n",
              "813557        504.772381      390.350211        5.404482e+04   \n",
              "813558        505.646435      390.673856        5.399079e+04   \n",
              "813559        506.091883      390.996576        5.393672e+04   \n",
              "\n",
              "        MI_dir_L0.1_weight  ...  HpHp_L0.1_covariance  HpHp_L0.1_pcc  \\\n",
              "0                 1.000000  ...                   0.0            0.0   \n",
              "1                 1.999932  ...                   0.0            0.0   \n",
              "2                 2.999171  ...                   0.0            0.0   \n",
              "3                 3.999171  ...                   0.0            0.0   \n",
              "4                 4.998261  ...                   0.0            0.0   \n",
              "...                    ...  ...                   ...            ...   \n",
              "813555         5226.131516  ...                   0.0            0.0   \n",
              "813556         5227.130480  ...                   0.0            0.0   \n",
              "813557         5227.843523  ...                   0.0            0.0   \n",
              "813558         5228.713068  ...                   0.0            0.0   \n",
              "813559         5229.139342  ...                   0.0            0.0   \n",
              "\n",
              "        HpHp_L0.01_weight  HpHp_L0.01_mean  HpHp_L0.01_std  \\\n",
              "0                 1.00000            566.0        0.000000   \n",
              "1                 1.00000            566.0        0.000000   \n",
              "2                 1.00000            566.0        0.000000   \n",
              "3                 1.00000            566.0        0.000000   \n",
              "4                 1.00000            566.0        0.000000   \n",
              "...                   ...              ...             ...   \n",
              "813555        29900.27806            554.0        0.000062   \n",
              "813556        29901.27747            554.0        0.000062   \n",
              "813557        29902.11331            554.0        0.000062   \n",
              "813558        29903.03870            554.0        0.000062   \n",
              "813559        29903.71057            554.0        0.000062   \n",
              "\n",
              "        HpHp_L0.01_magnitude  HpHp_L0.01_radius  HpHp_L0.01_covariance  \\\n",
              "0                      566.0       0.000000e+00                    0.0   \n",
              "1                      566.0       0.000000e+00                    0.0   \n",
              "2                      566.0       0.000000e+00                    0.0   \n",
              "3                      566.0       0.000000e+00                    0.0   \n",
              "4                      566.0       0.000000e+00                    0.0   \n",
              "...                      ...                ...                    ...   \n",
              "813555                 554.0       3.840000e-09                    0.0   \n",
              "813556                 554.0       3.840000e-09                    0.0   \n",
              "813557                 554.0       3.780000e-09                    0.0   \n",
              "813558                 554.0       3.900000e-09                    0.0   \n",
              "813559                 554.0       3.780000e-09                    0.0   \n",
              "\n",
              "        HpHp_L0.01_pcc     class  \n",
              "0                  0.0       ack  \n",
              "1                  0.0       ack  \n",
              "2                  0.0       ack  \n",
              "3                  0.0       ack  \n",
              "4                  0.0       ack  \n",
              "...                ...       ...  \n",
              "813555             0.0  udpplain  \n",
              "813556             0.0  udpplain  \n",
              "813557             0.0  udpplain  \n",
              "813558             0.0  udpplain  \n",
              "813559             0.0  udpplain  \n",
              "\n",
              "[813560 rows x 116 columns]"
            ],
            "text/html": [
              "\n",
              "  <div id=\"df-6c7b857c-6230-483b-b12e-ed9c6db77ef5\">\n",
              "    <div class=\"colab-df-container\">\n",
              "      <div>\n",
              "<style scoped>\n",
              "    .dataframe tbody tr th:only-of-type {\n",
              "        vertical-align: middle;\n",
              "    }\n",
              "\n",
              "    .dataframe tbody tr th {\n",
              "        vertical-align: top;\n",
              "    }\n",
              "\n",
              "    .dataframe thead th {\n",
              "        text-align: right;\n",
              "    }\n",
              "</style>\n",
              "<table border=\"1\" class=\"dataframe\">\n",
              "  <thead>\n",
              "    <tr style=\"text-align: right;\">\n",
              "      <th></th>\n",
              "      <th>MI_dir_L5_weight</th>\n",
              "      <th>MI_dir_L5_mean</th>\n",
              "      <th>MI_dir_L5_variance</th>\n",
              "      <th>MI_dir_L3_weight</th>\n",
              "      <th>MI_dir_L3_mean</th>\n",
              "      <th>MI_dir_L3_variance</th>\n",
              "      <th>MI_dir_L1_weight</th>\n",
              "      <th>MI_dir_L1_mean</th>\n",
              "      <th>MI_dir_L1_variance</th>\n",
              "      <th>MI_dir_L0.1_weight</th>\n",
              "      <th>...</th>\n",
              "      <th>HpHp_L0.1_covariance</th>\n",
              "      <th>HpHp_L0.1_pcc</th>\n",
              "      <th>HpHp_L0.01_weight</th>\n",
              "      <th>HpHp_L0.01_mean</th>\n",
              "      <th>HpHp_L0.01_std</th>\n",
              "      <th>HpHp_L0.01_magnitude</th>\n",
              "      <th>HpHp_L0.01_radius</th>\n",
              "      <th>HpHp_L0.01_covariance</th>\n",
              "      <th>HpHp_L0.01_pcc</th>\n",
              "      <th>class</th>\n",
              "    </tr>\n",
              "  </thead>\n",
              "  <tbody>\n",
              "    <tr>\n",
              "      <th>0</th>\n",
              "      <td>1.000000</td>\n",
              "      <td>566.000000</td>\n",
              "      <td>0.000000e+00</td>\n",
              "      <td>1.000000</td>\n",
              "      <td>566.000000</td>\n",
              "      <td>0.000000e+00</td>\n",
              "      <td>1.000000</td>\n",
              "      <td>566.000000</td>\n",
              "      <td>0.000000e+00</td>\n",
              "      <td>1.000000</td>\n",
              "      <td>...</td>\n",
              "      <td>0.0</td>\n",
              "      <td>0.0</td>\n",
              "      <td>1.00000</td>\n",
              "      <td>566.0</td>\n",
              "      <td>0.000000</td>\n",
              "      <td>566.0</td>\n",
              "      <td>0.000000e+00</td>\n",
              "      <td>0.0</td>\n",
              "      <td>0.0</td>\n",
              "      <td>ack</td>\n",
              "    </tr>\n",
              "    <tr>\n",
              "      <th>1</th>\n",
              "      <td>1.996585</td>\n",
              "      <td>566.000000</td>\n",
              "      <td>5.820000e-11</td>\n",
              "      <td>1.997950</td>\n",
              "      <td>566.000000</td>\n",
              "      <td>5.820000e-11</td>\n",
              "      <td>1.999316</td>\n",
              "      <td>566.000000</td>\n",
              "      <td>0.000000e+00</td>\n",
              "      <td>1.999932</td>\n",
              "      <td>...</td>\n",
              "      <td>0.0</td>\n",
              "      <td>0.0</td>\n",
              "      <td>1.00000</td>\n",
              "      <td>566.0</td>\n",
              "      <td>0.000000</td>\n",
              "      <td>566.0</td>\n",
              "      <td>0.000000e+00</td>\n",
              "      <td>0.0</td>\n",
              "      <td>0.0</td>\n",
              "      <td>ack</td>\n",
              "    </tr>\n",
              "    <tr>\n",
              "      <th>2</th>\n",
              "      <td>2.958989</td>\n",
              "      <td>566.000000</td>\n",
              "      <td>0.000000e+00</td>\n",
              "      <td>2.975291</td>\n",
              "      <td>566.000000</td>\n",
              "      <td>5.820000e-11</td>\n",
              "      <td>2.991729</td>\n",
              "      <td>566.000000</td>\n",
              "      <td>5.820000e-11</td>\n",
              "      <td>2.999171</td>\n",
              "      <td>...</td>\n",
              "      <td>0.0</td>\n",
              "      <td>0.0</td>\n",
              "      <td>1.00000</td>\n",
              "      <td>566.0</td>\n",
              "      <td>0.000000</td>\n",
              "      <td>566.0</td>\n",
              "      <td>0.000000e+00</td>\n",
              "      <td>0.0</td>\n",
              "      <td>0.0</td>\n",
              "      <td>ack</td>\n",
              "    </tr>\n",
              "    <tr>\n",
              "      <th>3</th>\n",
              "      <td>3.958979</td>\n",
              "      <td>566.000000</td>\n",
              "      <td>0.000000e+00</td>\n",
              "      <td>3.975285</td>\n",
              "      <td>566.000000</td>\n",
              "      <td>0.000000e+00</td>\n",
              "      <td>3.991727</td>\n",
              "      <td>566.000000</td>\n",
              "      <td>1.160000e-10</td>\n",
              "      <td>3.999171</td>\n",
              "      <td>...</td>\n",
              "      <td>0.0</td>\n",
              "      <td>0.0</td>\n",
              "      <td>1.00000</td>\n",
              "      <td>566.0</td>\n",
              "      <td>0.000000</td>\n",
              "      <td>566.0</td>\n",
              "      <td>0.000000e+00</td>\n",
              "      <td>0.0</td>\n",
              "      <td>0.0</td>\n",
              "      <td>ack</td>\n",
              "    </tr>\n",
              "    <tr>\n",
              "      <th>4</th>\n",
              "      <td>4.914189</td>\n",
              "      <td>566.000000</td>\n",
              "      <td>1.160000e-10</td>\n",
              "      <td>4.948239</td>\n",
              "      <td>566.000000</td>\n",
              "      <td>5.820000e-11</td>\n",
              "      <td>4.982654</td>\n",
              "      <td>566.000000</td>\n",
              "      <td>5.820000e-11</td>\n",
              "      <td>4.998261</td>\n",
              "      <td>...</td>\n",
              "      <td>0.0</td>\n",
              "      <td>0.0</td>\n",
              "      <td>1.00000</td>\n",
              "      <td>566.0</td>\n",
              "      <td>0.000000</td>\n",
              "      <td>566.0</td>\n",
              "      <td>0.000000e+00</td>\n",
              "      <td>0.0</td>\n",
              "      <td>0.0</td>\n",
              "      <td>ack</td>\n",
              "    </tr>\n",
              "    <tr>\n",
              "      <th>...</th>\n",
              "      <td>...</td>\n",
              "      <td>...</td>\n",
              "      <td>...</td>\n",
              "      <td>...</td>\n",
              "      <td>...</td>\n",
              "      <td>...</td>\n",
              "      <td>...</td>\n",
              "      <td>...</td>\n",
              "      <td>...</td>\n",
              "      <td>...</td>\n",
              "      <td>...</td>\n",
              "      <td>...</td>\n",
              "      <td>...</td>\n",
              "      <td>...</td>\n",
              "      <td>...</td>\n",
              "      <td>...</td>\n",
              "      <td>...</td>\n",
              "      <td>...</td>\n",
              "      <td>...</td>\n",
              "      <td>...</td>\n",
              "      <td>...</td>\n",
              "    </tr>\n",
              "    <tr>\n",
              "      <th>813555</th>\n",
              "      <td>107.013362</td>\n",
              "      <td>451.270414</td>\n",
              "      <td>4.019486e+04</td>\n",
              "      <td>177.665918</td>\n",
              "      <td>416.233265</td>\n",
              "      <td>4.907493e+04</td>\n",
              "      <td>503.050021</td>\n",
              "      <td>389.699401</td>\n",
              "      <td>5.415282e+04</td>\n",
              "      <td>5226.131516</td>\n",
              "      <td>...</td>\n",
              "      <td>0.0</td>\n",
              "      <td>0.0</td>\n",
              "      <td>29900.27806</td>\n",
              "      <td>554.0</td>\n",
              "      <td>0.000062</td>\n",
              "      <td>554.0</td>\n",
              "      <td>3.840000e-09</td>\n",
              "      <td>0.0</td>\n",
              "      <td>0.0</td>\n",
              "      <td>udpplain</td>\n",
              "    </tr>\n",
              "    <tr>\n",
              "      <th>813556</th>\n",
              "      <td>108.012301</td>\n",
              "      <td>452.221506</td>\n",
              "      <td>3.991953e+04</td>\n",
              "      <td>178.664861</td>\n",
              "      <td>417.004355</td>\n",
              "      <td>4.890589e+04</td>\n",
              "      <td>504.049023</td>\n",
              "      <td>390.025362</td>\n",
              "      <td>5.409883e+04</td>\n",
              "      <td>5227.130480</td>\n",
              "      <td>...</td>\n",
              "      <td>0.0</td>\n",
              "      <td>0.0</td>\n",
              "      <td>29901.27747</td>\n",
              "      <td>554.0</td>\n",
              "      <td>0.000062</td>\n",
              "      <td>554.0</td>\n",
              "      <td>3.840000e-09</td>\n",
              "      <td>0.0</td>\n",
              "      <td>0.0</td>\n",
              "      <td>udpplain</td>\n",
              "    </tr>\n",
              "    <tr>\n",
              "      <th>813557</th>\n",
              "      <td>108.716218</td>\n",
              "      <td>453.157691</td>\n",
              "      <td>3.964675e+04</td>\n",
              "      <td>179.370847</td>\n",
              "      <td>417.768112</td>\n",
              "      <td>4.873728e+04</td>\n",
              "      <td>504.772381</td>\n",
              "      <td>390.350211</td>\n",
              "      <td>5.404482e+04</td>\n",
              "      <td>5227.843523</td>\n",
              "      <td>...</td>\n",
              "      <td>0.0</td>\n",
              "      <td>0.0</td>\n",
              "      <td>29902.11331</td>\n",
              "      <td>554.0</td>\n",
              "      <td>0.000062</td>\n",
              "      <td>554.0</td>\n",
              "      <td>3.780000e-09</td>\n",
              "      <td>0.0</td>\n",
              "      <td>0.0</td>\n",
              "      <td>udpplain</td>\n",
              "    </tr>\n",
              "    <tr>\n",
              "      <th>813558</th>\n",
              "      <td>109.580657</td>\n",
              "      <td>454.077947</td>\n",
              "      <td>3.937690e+04</td>\n",
              "      <td>180.236616</td>\n",
              "      <td>418.523962</td>\n",
              "      <td>4.856928e+04</td>\n",
              "      <td>505.646435</td>\n",
              "      <td>390.673856</td>\n",
              "      <td>5.399079e+04</td>\n",
              "      <td>5228.713068</td>\n",
              "      <td>...</td>\n",
              "      <td>0.0</td>\n",
              "      <td>0.0</td>\n",
              "      <td>29903.03870</td>\n",
              "      <td>554.0</td>\n",
              "      <td>0.000062</td>\n",
              "      <td>554.0</td>\n",
              "      <td>3.900000e-09</td>\n",
              "      <td>0.0</td>\n",
              "      <td>0.0</td>\n",
              "      <td>udpplain</td>\n",
              "    </tr>\n",
              "    <tr>\n",
              "      <th>813559</th>\n",
              "      <td>109.981077</td>\n",
              "      <td>454.986486</td>\n",
              "      <td>3.910882e+04</td>\n",
              "      <td>180.644259</td>\n",
              "      <td>419.273922</td>\n",
              "      <td>4.840145e+04</td>\n",
              "      <td>506.091883</td>\n",
              "      <td>390.996576</td>\n",
              "      <td>5.393672e+04</td>\n",
              "      <td>5229.139342</td>\n",
              "      <td>...</td>\n",
              "      <td>0.0</td>\n",
              "      <td>0.0</td>\n",
              "      <td>29903.71057</td>\n",
              "      <td>554.0</td>\n",
              "      <td>0.000062</td>\n",
              "      <td>554.0</td>\n",
              "      <td>3.780000e-09</td>\n",
              "      <td>0.0</td>\n",
              "      <td>0.0</td>\n",
              "      <td>udpplain</td>\n",
              "    </tr>\n",
              "  </tbody>\n",
              "</table>\n",
              "<p>813560 rows × 116 columns</p>\n",
              "</div>\n",
              "      <button class=\"colab-df-convert\" onclick=\"convertToInteractive('df-6c7b857c-6230-483b-b12e-ed9c6db77ef5')\"\n",
              "              title=\"Convert this dataframe to an interactive table.\"\n",
              "              style=\"display:none;\">\n",
              "        \n",
              "  <svg xmlns=\"http://www.w3.org/2000/svg\" height=\"24px\"viewBox=\"0 0 24 24\"\n",
              "       width=\"24px\">\n",
              "    <path d=\"M0 0h24v24H0V0z\" fill=\"none\"/>\n",
              "    <path d=\"M18.56 5.44l.94 2.06.94-2.06 2.06-.94-2.06-.94-.94-2.06-.94 2.06-2.06.94zm-11 1L8.5 8.5l.94-2.06 2.06-.94-2.06-.94L8.5 2.5l-.94 2.06-2.06.94zm10 10l.94 2.06.94-2.06 2.06-.94-2.06-.94-.94-2.06-.94 2.06-2.06.94z\"/><path d=\"M17.41 7.96l-1.37-1.37c-.4-.4-.92-.59-1.43-.59-.52 0-1.04.2-1.43.59L10.3 9.45l-7.72 7.72c-.78.78-.78 2.05 0 2.83L4 21.41c.39.39.9.59 1.41.59.51 0 1.02-.2 1.41-.59l7.78-7.78 2.81-2.81c.8-.78.8-2.07 0-2.86zM5.41 20L4 18.59l7.72-7.72 1.47 1.35L5.41 20z\"/>\n",
              "  </svg>\n",
              "      </button>\n",
              "      \n",
              "  <style>\n",
              "    .colab-df-container {\n",
              "      display:flex;\n",
              "      flex-wrap:wrap;\n",
              "      gap: 12px;\n",
              "    }\n",
              "\n",
              "    .colab-df-convert {\n",
              "      background-color: #E8F0FE;\n",
              "      border: none;\n",
              "      border-radius: 50%;\n",
              "      cursor: pointer;\n",
              "      display: none;\n",
              "      fill: #1967D2;\n",
              "      height: 32px;\n",
              "      padding: 0 0 0 0;\n",
              "      width: 32px;\n",
              "    }\n",
              "\n",
              "    .colab-df-convert:hover {\n",
              "      background-color: #E2EBFA;\n",
              "      box-shadow: 0px 1px 2px rgba(60, 64, 67, 0.3), 0px 1px 3px 1px rgba(60, 64, 67, 0.15);\n",
              "      fill: #174EA6;\n",
              "    }\n",
              "\n",
              "    [theme=dark] .colab-df-convert {\n",
              "      background-color: #3B4455;\n",
              "      fill: #D2E3FC;\n",
              "    }\n",
              "\n",
              "    [theme=dark] .colab-df-convert:hover {\n",
              "      background-color: #434B5C;\n",
              "      box-shadow: 0px 1px 3px 1px rgba(0, 0, 0, 0.15);\n",
              "      filter: drop-shadow(0px 1px 2px rgba(0, 0, 0, 0.3));\n",
              "      fill: #FFFFFF;\n",
              "    }\n",
              "  </style>\n",
              "\n",
              "      <script>\n",
              "        const buttonEl =\n",
              "          document.querySelector('#df-6c7b857c-6230-483b-b12e-ed9c6db77ef5 button.colab-df-convert');\n",
              "        buttonEl.style.display =\n",
              "          google.colab.kernel.accessAllowed ? 'block' : 'none';\n",
              "\n",
              "        async function convertToInteractive(key) {\n",
              "          const element = document.querySelector('#df-6c7b857c-6230-483b-b12e-ed9c6db77ef5');\n",
              "          const dataTable =\n",
              "            await google.colab.kernel.invokeFunction('convertToInteractive',\n",
              "                                                     [key], {});\n",
              "          if (!dataTable) return;\n",
              "\n",
              "          const docLinkHtml = 'Like what you see? Visit the ' +\n",
              "            '<a target=\"_blank\" href=https://colab.research.google.com/notebooks/data_table.ipynb>data table notebook</a>'\n",
              "            + ' to learn more about interactive tables.';\n",
              "          element.innerHTML = '';\n",
              "          dataTable['output_type'] = 'display_data';\n",
              "          await google.colab.output.renderOutput(dataTable, element);\n",
              "          const docLink = document.createElement('div');\n",
              "          docLink.innerHTML = docLinkHtml;\n",
              "          element.appendChild(docLink);\n",
              "        }\n",
              "      </script>\n",
              "    </div>\n",
              "  </div>\n",
              "  "
            ]
          },
          "metadata": {},
          "execution_count": 2
        }
      ],
      "source": [
        "import numpy as np\n",
        "import pandas as pd\n",
        "from xgboost import XGBClassifier\n",
        "import matplotlib.pyplot as plt\n",
        "import seaborn as sn\n",
        "import warnings\n",
        "\n",
        "warnings.filterwarnings('ignore')\n",
        "\n",
        "data1=pd.read_csv('/content/drive/MyDrive/Half_Data/ack_h.csv')\n",
        "data2=pd.read_csv('/content/drive/MyDrive/Half_Data/benign_traffic_h.csv')\n",
        "data3=pd.read_csv('/content/drive/MyDrive/Half_Data/combo_h.csv')\n",
        "data4=pd.read_csv('/content/drive/MyDrive/Half_Data/junk_h.csv')\n",
        "data5=pd.read_csv('/content/drive/MyDrive/Half_Data/scan_h.csv')\n",
        "data6=pd.read_csv('/content/drive/MyDrive/Half_Data/syn_h.csv')\n",
        "data7=pd.read_csv('/content/drive/MyDrive/Half_Data/tcp_h.csv')\n",
        "data8=pd.read_csv('/content/drive/MyDrive/Half_Data/udp_h.csv')\n",
        "data9=pd.read_csv('/content/drive/MyDrive/Half_Data/udpplain_h.csv')\n",
        "\n",
        "\n",
        "data1['class']='ack'\n",
        "data2['class']='benign'\n",
        "data3['class']='combo'\n",
        "data4['class']='junk'\n",
        "data5['class']='scan'\n",
        "data6['class']='syn'\n",
        "data7['class']='tcp'\n",
        "data8['class']='udp'\n",
        "data9['class']='udpplain'\n",
        "\n",
        "\n",
        "data=pd.concat([data1,data2,data3,data4,data5,data6,data7,data8,data9],\n",
        "\n",
        "               axis=0, sort=False, ignore_index=True)\n",
        "\n",
        "data.groupby('class')['class'].count()\n",
        "data"
      ]
    },
    {
      "cell_type": "code",
      "execution_count": null,
      "metadata": {
        "colab": {
          "base_uri": "https://localhost:8080/"
        },
        "id": "YFE-U8H4oS4c",
        "outputId": "7fbf4b46-ece9-4bbb-e46c-09ee303e8f93"
      },
      "outputs": [
        {
          "output_type": "stream",
          "name": "stdout",
          "text": [
            "Mounted at /content/drive\n"
          ]
        }
      ],
      "source": [
        "from google.colab import drive\n",
        "drive.mount('/content/drive')"
      ]
    },
    {
      "cell_type": "code",
      "execution_count": null,
      "metadata": {
        "id": "nMWb_pfqbxpL"
      },
      "outputs": [],
      "source": [
        "from sklearn.preprocessing import LabelEncoder\n",
        "le = LabelEncoder()\n",
        "data[\"class\"]= le.fit_transform(data[\"class\"])"
      ]
    },
    {
      "cell_type": "code",
      "execution_count": null,
      "metadata": {
        "id": "0ulpT4cD9h8j"
      },
      "outputs": [],
      "source": [
        "x = data.drop(columns = ['class'])\n",
        "y = data['class']"
      ]
    },
    {
      "cell_type": "code",
      "source": [
        "y"
      ],
      "metadata": {
        "colab": {
          "base_uri": "https://localhost:8080/"
        },
        "id": "ZHOLDfCJ-oeb",
        "outputId": "30b25b30-bf6e-412a-e92b-3470ce6b05a8"
      },
      "execution_count": null,
      "outputs": [
        {
          "output_type": "execute_result",
          "data": {
            "text/plain": [
              "0         0\n",
              "1         0\n",
              "2         0\n",
              "3         0\n",
              "4         0\n",
              "         ..\n",
              "813555    8\n",
              "813556    8\n",
              "813557    8\n",
              "813558    8\n",
              "813559    8\n",
              "Name: class, Length: 813560, dtype: int64"
            ]
          },
          "metadata": {},
          "execution_count": 5
        }
      ]
    },
    {
      "cell_type": "code",
      "source": [
        "sn.countplot(y)"
      ],
      "metadata": {
        "colab": {
          "base_uri": "https://localhost:8080/",
          "height": 297
        },
        "id": "7DfM132jA09e",
        "outputId": "edbed706-6d0d-44c1-bd09-168d3a39a50d"
      },
      "execution_count": null,
      "outputs": [
        {
          "output_type": "execute_result",
          "data": {
            "text/plain": [
              "<matplotlib.axes._subplots.AxesSubplot at 0x7fa92ecdaf50>"
            ]
          },
          "metadata": {},
          "execution_count": 6
        },
        {
          "output_type": "display_data",
          "data": {
            "text/plain": [
              "<Figure size 432x288 with 1 Axes>"
            ],
            "image/png": "[encoded data removed]"
          },
          "metadata": {
            "needs_background": "light"
          }
        }
      ]
    },
    {
      "cell_type": "code",
      "execution_count": null,
      "metadata": {
        "colab": {
          "base_uri": "https://localhost:8080/"
        },
        "id": "-rjFEPq-lH-0",
        "outputId": "05d61410-fdd2-4e7b-acb1-e4ca9b04e3a1"
      },
      "outputs": [
        {
          "output_type": "execute_result",
          "data": {
            "text/plain": [
              "array([[-1.09402864,  2.92023653, -0.49459129, ..., -0.08128532,\n",
              "        -0.02999433, -0.01756778],\n",
              "       [-1.0801538 ,  2.92023653, -0.49459129, ..., -0.08128532,\n",
              "        -0.02999433, -0.01756778],\n",
              "       [-1.06675484,  2.92023653, -0.49459129, ..., -0.08128532,\n",
              "        -0.02999433, -0.01756778],\n",
              "       ...,\n",
              "       [ 0.40563836,  2.13892047,  1.3059045 , ..., -0.08128532,\n",
              "        -0.02999433, -0.01756778],\n",
              "       [ 0.41767341,  2.14529229,  1.29364967, ..., -0.08128532,\n",
              "        -0.02999433, -0.01756778],\n",
              "       [ 0.42324822,  2.15158298,  1.28147542, ..., -0.08128532,\n",
              "        -0.02999433, -0.01756778]])"
            ]
          },
          "metadata": {},
          "execution_count": 10
        }
      ],
      "source": [
        "from sklearn.preprocessing import StandardScaler\n",
        "\n",
        "scaler = StandardScaler()\n",
        "x_scaled = scaler.fit_transform(x)\n",
        "x_scaled"
      ]
    },
    {
      "cell_type": "code",
      "execution_count": null,
      "metadata": {
        "id": "Phs7kdLE6ZSS"
      },
      "outputs": [],
      "source": [
        "from sklearn.model_selection import train_test_split\n",
        "\n",
        "x_train, x_test,y_train, y_test = train_test_split(x_scaled,y,test_size=.3,random_state=123)"
      ]
    },
    {
      "cell_type": "code",
      "execution_count": null,
      "metadata": {
        "id": "kuUmnnSfp45L"
      },
      "outputs": [],
      "source": [
        "import numpy as np\n",
        "from math import e\n",
        "\n",
        "class Node:\n",
        "    def __init__(self, x, gradient, hessian, idxs, subsample_cols = 0.8 , min_leaf = 5, min_child_weight = 1 ,depth = 10, lambda_ = 1, gamma = 1, eps = 0.1):\n",
        "      \n",
        "        self.x, self.gradient, self.hessian = x, gradient, hessian\n",
        "        self.idxs = idxs \n",
        "        self.depth = depth\n",
        "        self.min_leaf = min_leaf\n",
        "        self.lambda_ = lambda_\n",
        "        self.gamma  = gamma\n",
        "        self.min_child_weight = min_child_weight\n",
        "        self.row_count = len(idxs)\n",
        "        self.col_count = x.shape[1]\n",
        "        self.subsample_cols = subsample_cols\n",
        "        self.eps = eps\n",
        "        self.column_subsample = np.random.permutation(self.col_count)[:round(self.subsample_cols*self.col_count)]\n",
        "        \n",
        "        self.val = self.compute_gamma(self.gradient[self.idxs], self.hessian[self.idxs])\n",
        "          \n",
        "        self.score = float('-inf')\n",
        "        self.find_varsplit()\n",
        "    def compute_gamma(self, gradient, hessian):\n",
        "        \n",
        "        return(-np.sum(gradient)/(np.sum(hessian) + self.lambda_))\n",
        "    def find_varsplit(self):\n",
        "        \n",
        "        for c in self.column_subsample: self.find_greedy_split(c)\n",
        "        if self.is_leaf: return\n",
        "        x = self.split_col\n",
        "        lhs = np.nonzero(x <= self.split)[0]\n",
        "        rhs = np.nonzero(x > self.split)[0]\n",
        "        self.lhs = Node(x = self.x, gradient = self.gradient, hessian = self.hessian, idxs = self.idxs[lhs], min_leaf = self.min_leaf, depth = self.depth-1, lambda_ = self.lambda_ , gamma = self.gamma, min_child_weight = self.min_child_weight, eps = self.eps, subsample_cols = self.subsample_cols)\n",
        "        self.rhs = Node(x = self.x, gradient = self.gradient, hessian = self.hessian, idxs = self.idxs[rhs], min_leaf = self.min_leaf, depth = self.depth-1, lambda_ = self.lambda_ , gamma = self.gamma, min_child_weight = self.min_child_weight, eps = self.eps, subsample_cols = self.subsample_cols)\n",
        "        \n",
        "    def find_greedy_split(self, var_idx):\n",
        "        \n",
        "        x = self.x.values[self.idxs, var_idx]\n",
        "        \n",
        "        for r in range(self.row_count):\n",
        "            lhs = x <= x[r]\n",
        "            rhs = x > x[r]\n",
        "            \n",
        "            lhs_indices = np.nonzero(x <= x[r])[0]\n",
        "            rhs_indices = np.nonzero(x > x[r])[0]\n",
        "            if(rhs.sum() < self.min_leaf or lhs.sum() < self.min_leaf \n",
        "               or self.hessian[lhs_indices].sum() < self.min_child_weight\n",
        "               or self.hessian[rhs_indices].sum() < self.min_child_weight): continue\n",
        "\n",
        "            curr_score = self.gain(lhs, rhs)\n",
        "            if curr_score > self.score: \n",
        "                self.var_idx = var_idx\n",
        "                self.score = curr_score\n",
        "                self.split = x[r]\n",
        "    def weighted_qauntile_sketch(self, var_idx):\n",
        "        \n",
        "        x = self.x.values[self.idxs, var_idx]\n",
        "        hessian_ = self.hessian[self.idxs]\n",
        "        df = pd.DataFrame({'feature':x,'hess':hessian_})\n",
        "        \n",
        "        df.sort_values(by=['feature'], ascending = True, inplace = True)\n",
        "        hess_sum = df['hess'].sum() \n",
        "        df['rank'] = df.apply(lambda x : (1/hess_sum)*sum(df[df['feature'] < x['feature']]['hess']), axis=1)\n",
        "        \n",
        "        for row in range(df.shape[0]-1):\n",
        "            # look at the current rank and the next ran\n",
        "            rk_sk_j, rk_sk_j_1 = df['rank'].iloc[row:row+2]\n",
        "            diff = abs(rk_sk_j - rk_sk_j_1)\n",
        "            if(diff >= self.eps):\n",
        "                continue\n",
        "            split_value = (df['rank'].iloc[row+1] + df['rank'].iloc[row])/2\n",
        "            lhs = x <= split_value\n",
        "            rhs = x > split_value\n",
        "            \n",
        "            lhs_indices = np.nonzero(x <= split_value)[0]\n",
        "            rhs_indices = np.nonzero(x > split_value)[0]\n",
        "            if(rhs.sum() < self.min_leaf or lhs.sum() < self.min_leaf \n",
        "               or self.hessian[lhs_indices].sum() < self.min_child_weight\n",
        "               or self.hessian[rhs_indices].sum() < self.min_child_weight): continue\n",
        "                \n",
        "            curr_score = self.gain(lhs, rhs)\n",
        "            if curr_score > self.score: \n",
        "                self.var_idx = var_idx\n",
        "                self.score = curr_score\n",
        "                self.split = split_value\n",
        "    def gain(self, lhs, rhs):\n",
        "        \n",
        "        gradient = self.gradient[self.idxs]\n",
        "        hessian  = self.hessian[self.idxs]\n",
        "        \n",
        "        lhs_gradient = gradient[lhs].sum()\n",
        "        lhs_hessian  = hessian[lhs].sum()\n",
        "        \n",
        "        rhs_gradient = gradient[rhs].sum()\n",
        "        rhs_hessian  = hessian[rhs].sum()\n",
        "        \n",
        "        gain = 0.5 *( (lhs_gradient**2/(lhs_hessian + self.lambda_)) + (rhs_gradient**2/(rhs_hessian + self.lambda_)) - ((lhs_gradient + rhs_gradient)**2/(lhs_hessian + rhs_hessian + self.lambda_))) - self.gamma\n",
        "        return(gain)\n",
        "    @property\n",
        "    def split_col(self):\n",
        "        '''\n",
        "        splits a column \n",
        "        '''\n",
        "        return self.x.values[self.idxs , self.var_idx]\n",
        "                \n",
        "    @property\n",
        "    def is_leaf(self):\n",
        "        '''\n",
        "        checks if node is a leaf\n",
        "        '''\n",
        "        return self.score == float('-inf') or self.depth <= 0\n",
        "    def predict(self, x):\n",
        "        return np.array([self.predict_row(xi) for xi in x])\n",
        "    \n",
        "    def predict_row(self, xi):\n",
        "        if self.is_leaf:\n",
        "            return(self.val)\n",
        "\n",
        "        node = self.lhs if xi[self.var_idx] <= self.split else self.rhs\n",
        "        return node.predict_row(xi)\n",
        "    \n",
        "    \n",
        "    \n",
        "class XGBoostTree:\n",
        "    def fit(self, x, gradient, hessian, subsample_cols = 0.8 , min_leaf = 5, min_child_weight = 1 ,depth = 10, lambda_ = 1, gamma = 1, eps = 0.1):\n",
        "        self.dtree = Node(x, gradient, hessian, np.array(np.arange(len(x))), subsample_cols, min_leaf, min_child_weight, depth, lambda_, gamma, eps)\n",
        "        return self\n",
        "    \n",
        "    def predict(self, x):\n",
        "        return self.dtree.predict(x.values)\n",
        "    \n",
        "    \n",
        "class XGBClassifier:\n",
        "    def __init__(self):\n",
        "        self.estimators = []\n",
        "    \n",
        "    @staticmethod\n",
        "    def sigmoid(x):\n",
        "        return 1 / (1 + np.exp(-x))\n",
        "    \n",
        "    # first order gradient logLoss\n",
        "    def grad(self, preds, labels):\n",
        "        preds = self.sigmoid(preds)\n",
        "        return(preds - labels)\n",
        "    \n",
        "    # second order gradient logLoss\n",
        "    def hess(self, preds, labels):\n",
        "        preds = self.sigmoid(preds)\n",
        "        return(preds * (1 - preds))\n",
        "    \n",
        "    @staticmethod\n",
        "    def log_odds(column):\n",
        "        binary_yes = np.count_nonzero(column == 1)\n",
        "        binary_no  = np.count_nonzero(column == 0)\n",
        "        return(np.log(binary_yes/binary_no))\n",
        "    def fit(self, x, y, subsample_cols = 0.8 , min_child_weight = 1, depth = 5, min_leaf = 5, learning_rate = 0.4, boosting_rounds = 5, lambda_ = 1.5, gamma = 1, eps = 0.1):\n",
        "        self.x, self.y = x, y.values\n",
        "        self.depth = depth\n",
        "        self.subsample_cols = subsample_cols\n",
        "        self.eps = eps\n",
        "        self.min_child_weight = min_child_weight \n",
        "        self.min_leaf = min_leaf\n",
        "        self.learning_rate = learning_rate\n",
        "        self.boosting_rounds = boosting_rounds \n",
        "        self.lambda_ = lambda_\n",
        "        self.gamma  = gamma\n",
        "    \n",
        "        self.base_pred = np.full((x.shape[0], 1), 1).flatten().astype('float64')\n",
        "    \n",
        "        for booster in range(self.boosting_rounds):\n",
        "            Grad = self.grad(self.base_pred, self.y)\n",
        "            Hess = self.hess(self.base_pred, self.y)\n",
        "            boosting_tree = XGBoostTree().fit(self.x, Grad, Hess, depth = self.depth, min_leaf = self.min_leaf, lambda_ = self.lambda_, gamma = self.gamma, eps = self.eps, min_child_weight = self.min_child_weight, subsample_cols = self.subsample_cols)\n",
        "            self.base_pred += self.learning_rate * boosting_tree.predict(self.x)\n",
        "            self.estimators.append(boosting_tree)\n",
        "          \n",
        "    def predict_proba(self, x):\n",
        "        pred = np.zeros(x.shape[0])\n",
        "        \n",
        "        for estimator in self.estimators:\n",
        "            pred += self.learning_rate * estimator.predict(x) \n",
        "          \n",
        "        return(self.sigmoid(np.full((x.shape[0], 1), 1).flatten().astype('float64') + pred))\n",
        "    def predict(self, x):\n",
        "        pred = np.zeros(x.shape[0])\n",
        "        for estimator in self.estimators:\n",
        "            pred += self.learning_rate * estimator.predict(x) \n",
        "        \n",
        "        predicted_probas = self.sigmoid(np.full((x.shape[0], 1), 1).flatten().astype('float64') + pred)\n",
        "        preds = np.where(predicted_probas > np.mean(predicted_probas), 1, 0)\n",
        "        return(preds)"
      ]
    },
    {
      "cell_type": "code",
      "execution_count": null,
      "metadata": {
        "id": "-qfrSljG9WSt"
      },
      "outputs": [],
      "source": [
        "class PCA:\n",
        "\n",
        "    def __init__(self, n_components):\n",
        "        self.n_components = n_components\n",
        "        self.components = None\n",
        "        self.mean = None\n",
        "\n",
        "    def fit(self, x):\n",
        "        # Mean centering\n",
        "        self.mean = np.mean(x, axis=0)\n",
        "        x = x - self.mean\n",
        "        # covariance, function needs samples as columns\n",
        "        cov = np.cov(x.T)\n",
        "        # eigenvalues, eigenvectors\n",
        "        eigenvalues, eigenvectors = np.linalg.eig(cov)\n",
        "        # -> eigenvector v = [:,i] column vector, transpose for easier calculations\n",
        "        # sort eigenvectors\n",
        "        eigenvectors = eigenvectors.T\n",
        "        idxs = np.argsort(eigenvalues)[::-1]\n",
        "        eigenvalues = eigenvalues[idxs]\n",
        "        eigenvectors = eigenvectors[idxs]\n",
        "        # store first n eigenvectors\n",
        "        self.components = eigenvectors[0:self.n_components]\n",
        "\n",
        "    def transform(self, x):\n",
        "        # project data\n",
        "        x = x - self.mean\n",
        "        return np.dot(x, self.components.T)"
      ]
    },
    {
      "cell_type": "code",
      "execution_count": null,
      "metadata": {
        "colab": {
          "base_uri": "https://localhost:8080/"
        },
        "id": "1QczxL-d0WZ1",
        "outputId": "50cad7e7-d566-4a44-f8fb-3de76e7e1ac2"
      },
      "outputs": [
        {
          "output_type": "execute_result",
          "data": {
            "text/plain": [
              "(813560, 35)"
            ]
          },
          "metadata": {},
          "execution_count": 15
        }
      ],
      "source": [
        "pca = PCA(n_components=35)\n",
        "pca.fit(x_scaled)\n",
        "x_pca = pca.transform(x_scaled)\n",
        "x_pca.shape"
      ]
    },
    {
      "cell_type": "code",
      "execution_count": null,
      "metadata": {
        "colab": {
          "background_save": true
        },
        "id": "ee_h2i96VnVw"
      },
      "outputs": [],
      "source": [
        ""
      ]
    },
    {
      "cell_type": "code",
      "execution_count": null,
      "metadata": {
        "id": "SmUi9ixydhuW"
      },
      "outputs": [],
      "source": [
        "x_train_pca, x_test_pca, y_train, y_test = train_test_split(x_pca, y, test_size=0.3)"
      ]
    },
    {
      "cell_type": "code",
      "execution_count": null,
      "metadata": {
        "colab": {
          "background_save": true
        },
        "id": "USbr4ie5HLZ7"
      },
      "outputs": [],
      "source": [
        "\n"
      ]
    },
    {
      "cell_type": "code",
      "execution_count": null,
      "metadata": {
        "colab": {
          "base_uri": "https://localhost:8080/"
        },
        "id": "6hN0XGT9bWHg",
        "outputId": "4e388207-eae2-4bcf-a035-26cb48789d7b"
      },
      "outputs": [
        {
          "output_type": "stream",
          "name": "stdout",
          "text": [
            "Total execution time on 35 features:  0:39:22.579938\n"
          ]
        }
      ],
      "source": [
        "import datetime\n",
        "start = datetime.datetime.now()\n",
        "my_model = XGBClassifier()\n",
        "my_model.fit(x_train_pca, y_train)\n",
        "end = datetime.datetime.now()\n",
        "print(\"Total execution time on 35 features: \", end-start)"
      ]
    },
    {
      "cell_type": "code",
      "execution_count": null,
      "metadata": {
        "colab": {
          "base_uri": "https://localhost:8080/"
        },
        "id": "aiGJpaCUfsWS",
        "outputId": "cb1fcd6f-87fe-437d-cc2b-4e6a7d41cbb3"
      },
      "outputs": [
        {
          "output_type": "execute_result",
          "data": {
            "text/plain": [
              "98.98511890128981"
            ]
          },
          "metadata": {},
          "execution_count": 18
        }
      ],
      "source": [
        "my_model.score(x_test_pca, y_test)*100\n"
      ]
    },
    {
      "cell_type": "code",
      "execution_count": null,
      "metadata": {
        "colab": {
          "background_save": true
        },
        "id": "BILvHyxWYFh9"
      },
      "outputs": [],
      "source": [
        ""
      ]
    },
    {
      "cell_type": "code",
      "execution_count": null,
      "metadata": {
        "colab": {
          "background_save": true
        },
        "id": "cuwHy6tfVoQ_"
      },
      "outputs": [],
      "source": [
        ""
      ]
    },
    {
      "cell_type": "code",
      "execution_count": null,
      "metadata": {
        "id": "SNqTXeb26Zga"
      },
      "outputs": [],
      "source": [
        "confusion_m =  pd.crosstab(y_test,my_model.predict(x_test_pca))"
      ]
    },
    {
      "cell_type": "code",
      "execution_count": null,
      "metadata": {
        "colab": {
          "base_uri": "https://localhost:8080/",
          "height": 353
        },
        "id": "x7Bisrfo6Zkp",
        "outputId": "f37d35b5-f4c6-4291-d903-ce0ba5c1fd1d"
      },
      "outputs": [
        {
          "output_type": "execute_result",
          "data": {
            "text/plain": [
              "<matplotlib.axes._subplots.AxesSubplot at 0x7fa92e21bdd0>"
            ]
          },
          "metadata": {},
          "execution_count": 20
        },
        {
          "output_type": "display_data",
          "data": {
            "text/plain": [
              "<Figure size 720x360 with 2 Axes>"
            ],
            "image/png": "[encoded data removed]"
          },
          "metadata": {
            "needs_background": "light"
          }
        }
      ],
      "source": [
        "fig = plt.figure(figsize=(10,5))\n",
        "\n",
        "sn.heatmap(confusion_m,annot=True,cmap='Blues')"
      ]
    },
    {
      "cell_type": "code",
      "execution_count": null,
      "metadata": {
        "colab": {
          "base_uri": "https://localhost:8080/"
        },
        "id": "di7Im1bIZBn2",
        "outputId": "c63e997a-7fbe-45ac-e7c6-e8f96d531cc7"
      },
      "outputs": [
        {
          "output_type": "stream",
          "name": "stdout",
          "text": [
            "Accuracy is:  98.98511890128981\n"
          ]
        }
      ],
      "source": [
        "print(\"Accuracy is: \",(np.diag(confusion_m).sum()/confusion_m.sum().sum())*100)"
      ]
    },
    {
      "cell_type": "code",
      "execution_count": null,
      "metadata": {
        "colab": {
          "background_save": true
        },
        "id": "wrgeSo7CZBx9"
      },
      "outputs": [],
      "source": [
        ""
      ]
    },
    {
      "cell_type": "code",
      "execution_count": null,
      "metadata": {
        "colab": {
          "background_save": true
        },
        "id": "kNGrqh0fZCZg"
      },
      "outputs": [],
      "source": [
        ""
      ]
    },
    {
      "cell_type": "code",
      "execution_count": null,
      "metadata": {
        "colab": {
          "background_save": true
        },
        "id": "AR3sOJ2yZChq"
      },
      "outputs": [],
      "source": [
        ""
      ]
    },
    {
      "cell_type": "code",
      "execution_count": null,
      "metadata": {
        "id": "hbv6K1hGbOti"
      },
      "outputs": [],
      "source": [
        "from sklearn.metrics import confusion_matrix,accuracy_score"
      ]
    },
    {
      "cell_type": "code",
      "execution_count": null,
      "metadata": {
        "id": "wQE7WlsQYYVg"
      },
      "outputs": [],
      "source": [
        "y_pred= my_model.predict(x_test_pca)"
      ]
    },
    {
      "cell_type": "code",
      "execution_count": null,
      "metadata": {
        "colab": {
          "base_uri": "https://localhost:8080/"
        },
        "id": "8cioScIrYi90",
        "outputId": "2147ebb6-75b0-40e6-e408-6bc4057c195e"
      },
      "outputs": [
        {
          "output_type": "stream",
          "name": "stdout",
          "text": [
            "Accuracy score on 20 features:  98.98511890128981\n",
            "Confusion matrix:\n",
            "  [[20632     9     0     0     0     0     1     0   460]\n",
            " [    6 24300     0     0    21     0    14     1     1]\n",
            " [    0     5 26351   663    11    12     4     0     2]\n",
            " [    0    10   899 26224     0     5     3     0     0]\n",
            " [    0    52     0     0 26750     0    10     1     7]\n",
            " [    0     3    19     0    14 20905     0     0     0]\n",
            " [    0     8     0     0     8     0 30194     0     0]\n",
            " [    3     8     0     0     1     0     2 33077     0]\n",
            " [  205     6     1     0     2     0     0     0 33158]]\n"
          ]
        }
      ],
      "source": [
        "print(\"Accuracy score on 20 features: \", accuracy_score(y_test,y_pred)*100)\n",
        "print(\"Confusion matrix:\\n \", confusion_matrix(y_test,y_pred))"
      ]
    }
  ],
  "metadata": {
    "colab": {
      "collapsed_sections": [],
      "name": "XGBoost1.ipynb",
      "provenance": []
    },
    "kernelspec": {
      "display_name": "Python 3",
      "name": "python3"
    },
    "language_info": {
      "name": "python"
    }
  },
  "nbformat": 4,
  "nbformat_minor": 0
}